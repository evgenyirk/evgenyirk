{
 "cells": [
  {
   "cell_type": "markdown",
   "id": "760b9886-e3c8-45f7-9256-c47075ed1fa8",
   "metadata": {},
   "source": [
    "### Задание 5.1"
   ]
  },
  {
   "cell_type": "markdown",
   "id": "9461c5bc-4823-42d2-974e-adca62ae1896",
   "metadata": {},
   "source": [
    "АА-тест проводился с '2022-10-26' по '2022-11-01'.\n",
    "\n",
    "Нужно сделать симуляцию 10000 АА-тестов.\n",
    "\n",
    "На каждой итерации нужно сформировать подвыборки без повторения в 500 юзеров из 2 и 3 экспериментальной группы.\n",
    "\n",
    "Провести сравнение этих подвыборок t-testом."
   ]
  },
  {
   "cell_type": "code",
   "execution_count": 32,
   "id": "419fafdc-2a6c-4e6f-b971-fb3be782aef5",
   "metadata": {},
   "outputs": [],
   "source": [
    "import pandahouse\n",
    "import pandas as pd\n",
    "import numpy as np\n",
    "from scipy import stats\n",
    "import matplotlib.pyplot as plt\n",
    "import seaborn as sns\n",
    "\n",
    "sns.set(rc ={'figure.figsize':(15,10)})\n",
    "\n",
    "connection = {\n",
    "    'host': 'https://clickhouse.lab.karpov.courses',\n",
    "    'password': 'dpo_python_2020',\n",
    "    'user': 'student',\n",
    "    'database': 'simulator_20221120'\n",
    "    }\n",
    "\n",
    "q = \"\"\"\n",
    "    SELECT\n",
    "        exp_group,\n",
    "        user_id,\n",
    "        sum(action = 'like') as likes,\n",
    "        sum(action = 'view') as views,\n",
    "        likes / views as ctr\n",
    "    FROM\n",
    "        simulator_20221120.feed_actions\n",
    "    WHERE\n",
    "        toDate(time) BETWEEN '2022-10-26' AND '2022-11-01'\n",
    "        AND exp_group in (2, 3)\n",
    "    GROUP BY\n",
    "        exp_group,\n",
    "        user_id\n",
    "    \"\"\"\n",
    "\n",
    "\n",
    "df = pandahouse.read_clickhouse(q, connection=connection)"
   ]
  },
  {
   "cell_type": "code",
   "execution_count": 30,
   "id": "8138122b-dc29-4c51-bf4f-878a3c223c3a",
   "metadata": {},
   "outputs": [
    {
     "data": {
      "text/html": [
       "<div>\n",
       "<style scoped>\n",
       "    .dataframe tbody tr th:only-of-type {\n",
       "        vertical-align: middle;\n",
       "    }\n",
       "\n",
       "    .dataframe tbody tr th {\n",
       "        vertical-align: top;\n",
       "    }\n",
       "\n",
       "    .dataframe thead th {\n",
       "        text-align: right;\n",
       "    }\n",
       "</style>\n",
       "<table border=\"1\" class=\"dataframe\">\n",
       "  <thead>\n",
       "    <tr style=\"text-align: right;\">\n",
       "      <th></th>\n",
       "      <th>exp_group</th>\n",
       "      <th>user_id</th>\n",
       "      <th>likes</th>\n",
       "      <th>views</th>\n",
       "      <th>ctr</th>\n",
       "    </tr>\n",
       "  </thead>\n",
       "  <tbody>\n",
       "    <tr>\n",
       "      <th>0</th>\n",
       "      <td>3</td>\n",
       "      <td>115383</td>\n",
       "      <td>11</td>\n",
       "      <td>36</td>\n",
       "      <td>0.305556</td>\n",
       "    </tr>\n",
       "    <tr>\n",
       "      <th>1</th>\n",
       "      <td>3</td>\n",
       "      <td>123580</td>\n",
       "      <td>15</td>\n",
       "      <td>92</td>\n",
       "      <td>0.163043</td>\n",
       "    </tr>\n",
       "    <tr>\n",
       "      <th>2</th>\n",
       "      <td>2</td>\n",
       "      <td>131473</td>\n",
       "      <td>26</td>\n",
       "      <td>148</td>\n",
       "      <td>0.175676</td>\n",
       "    </tr>\n",
       "    <tr>\n",
       "      <th>3</th>\n",
       "      <td>2</td>\n",
       "      <td>23985</td>\n",
       "      <td>12</td>\n",
       "      <td>66</td>\n",
       "      <td>0.181818</td>\n",
       "    </tr>\n",
       "    <tr>\n",
       "      <th>4</th>\n",
       "      <td>2</td>\n",
       "      <td>24523</td>\n",
       "      <td>17</td>\n",
       "      <td>120</td>\n",
       "      <td>0.141667</td>\n",
       "    </tr>\n",
       "  </tbody>\n",
       "</table>\n",
       "</div>"
      ],
      "text/plain": [
       "   exp_group  user_id  likes  views       ctr\n",
       "0          3   115383     11     36  0.305556\n",
       "1          3   123580     15     92  0.163043\n",
       "2          2   131473     26    148  0.175676\n",
       "3          2    23985     12     66  0.181818\n",
       "4          2    24523     17    120  0.141667"
      ]
     },
     "execution_count": 30,
     "metadata": {},
     "output_type": "execute_result"
    }
   ],
   "source": [
    "df.head()"
   ]
  },
  {
   "cell_type": "code",
   "execution_count": 23,
   "id": "5b5ef95c-66d1-4867-bbed-854e78856b62",
   "metadata": {},
   "outputs": [
    {
     "data": {
      "text/plain": [
       "8569"
      ]
     },
     "execution_count": 23,
     "metadata": {},
     "output_type": "execute_result"
    }
   ],
   "source": [
    "# группы примерно одинакового размера\n",
    "\n",
    "df[df['exp_group']==3].exp_group.count()"
   ]
  },
  {
   "cell_type": "code",
   "execution_count": 24,
   "id": "a3400204-54af-4388-bdfb-d76815fb4083",
   "metadata": {},
   "outputs": [
    {
     "data": {
      "text/plain": [
       "8480"
      ]
     },
     "execution_count": 24,
     "metadata": {},
     "output_type": "execute_result"
    }
   ],
   "source": [
    "df[df['exp_group']==2].exp_group.count()"
   ]
  },
  {
   "cell_type": "code",
   "execution_count": 33,
   "id": "c4d6681f-06db-451b-b91d-bb67dc44f70f",
   "metadata": {},
   "outputs": [
    {
     "data": {
      "text/plain": [
       "Text(0.5, 1.0, 'CTR distribution')"
      ]
     },
     "execution_count": 33,
     "metadata": {},
     "output_type": "execute_result"
    },
    {
     "data": {
      "image/png": "[encoded data removed]",
      "text/plain": [
       "<Figure size 1080x720 with 1 Axes>"
      ]
     },
     "metadata": {},
     "output_type": "display_data"
    }
   ],
   "source": [
    "# гистограмма распредление CTR по группам 2 и 3\n",
    "\n",
    "ax = sns.histplot(df, x = 'ctr', hue = 'exp_group', palette = 'bright', kde=False)\n",
    "ax.set_title('CTR distribution')"
   ]
  },
  {
   "cell_type": "code",
   "execution_count": 34,
   "id": "3e51df4d-ae7e-4b77-b84a-cbe4580bd853",
   "metadata": {},
   "outputs": [
    {
     "data": {
      "text/plain": [
       "Ttest_indResult(statistic=-0.7393597924958364, pvalue=0.45969873156476293)"
      ]
     },
     "execution_count": 34,
     "metadata": {},
     "output_type": "execute_result"
    }
   ],
   "source": [
    "# t-test\n",
    "\n",
    "stats.ttest_ind(df[df.exp_group == 2].ctr,\n",
    "                df[df.exp_group == 3].ctr,\n",
    "                equal_var=False)"
   ]
  },
  {
   "cell_type": "code",
   "execution_count": 36,
   "id": "23fb233c-4393-4b7e-bf02-b2ae9f005964",
   "metadata": {},
   "outputs": [
    {
     "name": "stdout",
     "output_type": "stream",
     "text": [
      "В 49.39 % случаев A > B. Должно получиться около 50%\n"
     ]
    }
   ],
   "source": [
    "A_gt_B = 0\n",
    "for i in range(10000):\n",
    "    A_gt_B+= df[df.exp_group == 2].ctr.sample().values[0] > df[df.exp_group == 3].ctr.sample().values[0]\n",
    "    \n",
    "print('В', A_gt_B/100, '% случаев A > B. Должно получиться около 50%')"
   ]
  },
  {
   "cell_type": "markdown",
   "id": "210ad37e-ee5c-4c19-a6bf-2582d60d8fc5",
   "metadata": {},
   "source": [
    "#### 1. Построить гистограмму распределения получившихся 10000 p-values."
   ]
  },
  {
   "cell_type": "code",
   "execution_count": 45,
   "id": "910ffe88-3111-46b9-8d59-6c50addc8ab6",
   "metadata": {},
   "outputs": [],
   "source": [
    "# 10000 AA-тестов по 500 юзеров без повторения\n",
    "\n",
    "p_values = []\n",
    "\n",
    "for i in range(10000):\n",
    "    p_values.append(stats.ttest_ind(df[df.exp_group == 2].sample(500, replace = False).ctr,\n",
    "                                    df[df.exp_group == 3].sample(500, replace = False).ctr,\n",
    "                                    equal_var=False)[1])"
   ]
  },
  {
   "cell_type": "code",
   "execution_count": 44,
   "id": "f999647e-cc79-450f-8d91-62ba5b33555d",
   "metadata": {},
   "outputs": [
    {
     "data": {
      "text/plain": [
       "Text(0.5, 0, 'p_value')"
      ]
     },
     "execution_count": 44,
     "metadata": {},
     "output_type": "execute_result"
    },
    {
     "data": {
      "image/png": "[encoded data removed]",
      "text/plain": [
       "<Figure size 1080x720 with 1 Axes>"
      ]
     },
     "metadata": {},
     "output_type": "display_data"
    }
   ],
   "source": [
    "# построим гистограмму p_values\n",
    "\n",
    "sns.histplot(data = p_values, palette = 'bright')\n",
    "plt.title('P_value distribution (simulation of 10000 tests)')\n",
    "plt.xlabel('p_value')"
   ]
  },
  {
   "cell_type": "markdown",
   "id": "47e4b773-92b8-4b1e-8f29-6d45ddc32b94",
   "metadata": {},
   "source": [
    "#### 2. Какой процент p-values оказался меньше либо равен 0.05?"
   ]
  },
  {
   "cell_type": "code",
   "execution_count": 78,
   "id": "2e8ea0b5-595e-4eed-a154-e2fc7839f402",
   "metadata": {},
   "outputs": [],
   "source": [
    "p_value_percent = pd.DataFrame(data=p_values) \\\n",
    "    .rename(columns={0: 'p_values'}) \\\n",
    "    .query('p_values <= 0.05').shape[0]*100 / pd.DataFrame(data=p_values).shape[0]"
   ]
  },
  {
   "cell_type": "code",
   "execution_count": 80,
   "id": "b467f569-f761-4caf-b26f-e7abb25f78ba",
   "metadata": {},
   "outputs": [
    {
     "name": "stdout",
     "output_type": "stream",
     "text": [
      "4.95% p-values оказался меньше либо равен 0.05\n"
     ]
    }
   ],
   "source": [
    "print(\"{}% p-values оказался меньше либо равен 0.05\".format(p_value_percent))"
   ]
  },
  {
   "cell_type": "markdown",
   "id": "8786837a-8b31-406c-a553-486963e7827d",
   "metadata": {},
   "source": [
    "#### 3. Вывод по проведенному АА-тесту, корректно ли работает наша система сплитования."
   ]
  },
  {
   "cell_type": "markdown",
   "id": "322421b2-72a3-42dd-86a3-cfdd5f58aeb3",
   "metadata": {},
   "source": [
    "Из 10000 тестов, менее чем в 5% случаев p-value оказалось меньше либо равно 0.05. Нет оснований для отклонения H0 о равенстве средних в контрольной и тестовой группах. Считаем что наша система сплитирования работает корректно"
   ]
  }
 ],
 "metadata": {
  "kernelspec": {
   "display_name": "Python 3 (ipykernel)",
   "language": "python",
   "name": "python3"
  },
  "language_info": {
   "codemirror_mode": {
    "name": "ipython",
    "version": 3
   },
   "file_extension": ".py",
   "mimetype": "text/x-python",
   "name": "python",
   "nbconvert_exporter": "python",
   "pygments_lexer": "ipython3",
   "version": "3.8.10"
  }
 },
 "nbformat": 4,
 "nbformat_minor": 5
}
